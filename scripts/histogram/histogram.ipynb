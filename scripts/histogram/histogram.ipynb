{
 "cells": [
  {
   "cell_type": "code",
   "execution_count": 1,
   "id": "edeff4da-d8df-4376-aef0-93d05e3e5716",
   "metadata": {},
   "outputs": [
    {
     "name": "stdout",
     "output_type": "stream",
     "text": [
      "Overwriting HIS.py\n"
     ]
    }
   ],
   "source": [
    "%%file HIS.py\n",
    "import sys\n",
    "import re\n",
    "import fileinput\n",
    "from matplotlib import pyplot as plt\n",
    "\n",
    "if sys.argv[1][0:2] == \"-f\":\n",
    "    column_number = int(re.findall(r'\\d+',sys.argv[1])[0])\n",
    "    f_opt=1\n",
    "else:\n",
    "    column_number = 2\n",
    "    f_opt=0\n",
    "    \n",
    "column=[]  \n",
    "expres= sys.argv[1+f_opt]\n",
    "for line in fileinput.input(expres):\n",
    "    org_data = re.sub(r\"(ENSG\\d+)\\.\\d*\", r\"\\1\", line)\n",
    "    org_data = re.split(',',org_data.replace( '\"' ,'').replace('\\n',''))\n",
    "\n",
    "    if org_data[0] == '': \n",
    "        continue\n",
    "    else:\n",
    "        column.append(float(org_data[column_number-1]))\n",
    "        \n",
    "# print(column)\n",
    "\n",
    "\n",
    "fig, ax=plt.subplots(figsize=[10,10])\n",
    "ax.hist(column,color=\"grey\")\n",
    "fig.savefig('final_HIS.png')"
   ]
  },
  {
   "cell_type": "code",
   "execution_count": 2,
   "id": "7b2cdcc7-3312-4cd5-b7f5-8c20369ba2e1",
   "metadata": {},
   "outputs": [],
   "source": [
    "!python HIS.py -f4 expres.anal.csv"
   ]
  },
  {
   "cell_type": "code",
   "execution_count": null,
   "id": "18f1e1de-a36d-4df3-be68-111af3b10017",
   "metadata": {},
   "outputs": [],
   "source": []
  }
 ],
 "metadata": {
  "kernelspec": {
   "display_name": "Python 3 (ipykernel)",
   "language": "python",
   "name": "python3"
  },
  "language_info": {
   "codemirror_mode": {
    "name": "ipython",
    "version": 3
   },
   "file_extension": ".py",
   "mimetype": "text/x-python",
   "name": "python",
   "nbconvert_exporter": "python",
   "pygments_lexer": "ipython3",
   "version": "3.7.11"
  }
 },
 "nbformat": 4,
 "nbformat_minor": 5
}
