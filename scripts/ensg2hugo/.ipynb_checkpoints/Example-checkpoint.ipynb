{
 "cells": [
  {
   "cell_type": "code",
   "execution_count": 1,
   "id": "da3acc2d-4eda-4f41-ba5c-edaf7a5b9939",
   "metadata": {},
   "outputs": [
    {
     "name": "stdout",
     "output_type": "stream",
     "text": [
      "hello\n"
     ]
    }
   ],
   "source": [
    "print(\"hello\")"
   ]
  },
  {
   "cell_type": "markdown",
   "id": "123df200",
   "metadata": {},
   "source": [
    "## Test printing sometihing out"
   ]
  },
  {
   "cell_type": "code",
   "execution_count": 2,
   "id": "0f6d9af9",
   "metadata": {},
   "outputs": [
    {
     "name": "stdout",
     "output_type": "stream",
     "text": [
      "hello\n"
     ]
    }
   ],
   "source": [
    "print(\"hello\")"
   ]
  },
  {
   "cell_type": "code",
   "execution_count": 3,
   "id": "34637faf",
   "metadata": {},
   "outputs": [
    {
     "name": "stdout",
     "output_type": "stream",
     "text": [
      "The value of a is \t Bioinformatics\n"
     ]
    }
   ],
   "source": [
    "a = \"Bioinformatics\"\n",
    "print (\"The value of a is \\t\",a)"
   ]
  },
  {
   "cell_type": "code",
   "execution_count": 4,
   "id": "80ec014e",
   "metadata": {},
   "outputs": [
    {
     "name": "stdout",
     "output_type": "stream",
     "text": [
      "The value of x is  Bioin\n",
      "The value of x is now  Bioinfor\n"
     ]
    }
   ],
   "source": [
    "s=\"Bioinformatics is not too difficult to learn\"\n",
    "# String functions as char arrays\n",
    "x = s[0:5]\n",
    "print (\"The value of x is \", x)\n",
    "x = s[:8]\n",
    "print (\"The value of x is now \",x)"
   ]
  },
  {
   "cell_type": "code",
   "execution_count": 5,
   "id": "f665f579",
   "metadata": {},
   "outputs": [
    {
     "name": "stdout",
     "output_type": "stream",
     "text": [
      "Try: The length of s ( Bioinformatics is not too difficult to learn ) is  44\n"
     ]
    }
   ],
   "source": [
    "x = len(s) \n",
    "print (\"Try: The length of s (\",s,\") is \",x)"
   ]
  },
  {
   "cell_type": "code",
   "execution_count": 6,
   "id": "58de175d",
   "metadata": {},
   "outputs": [
    {
     "data": {
      "text/plain": [
       "'Bioinformatics is not too difficult to learn'"
      ]
     },
     "execution_count": 6,
     "metadata": {},
     "output_type": "execute_result"
    }
   ],
   "source": [
    "s.strip()"
   ]
  },
  {
   "cell_type": "code",
   "execution_count": 7,
   "id": "ac5a23f0",
   "metadata": {},
   "outputs": [
    {
     "data": {
      "text/plain": [
       "'BIOINFORMATICS IS NOT TOO DIFFICULT TO LEARN'"
      ]
     },
     "execution_count": 7,
     "metadata": {},
     "output_type": "execute_result"
    }
   ],
   "source": [
    "s.upper()"
   ]
  },
  {
   "cell_type": "code",
   "execution_count": 9,
   "id": "837296d0",
   "metadata": {},
   "outputs": [
    {
     "name": "stdout",
     "output_type": "stream",
     "text": [
      "something\n",
      "this and that\n"
     ]
    }
   ],
   "source": [
    "raw = 'something\\nthis and that'\n",
    "print(raw)"
   ]
  },
  {
   "cell_type": "code",
   "execution_count": 10,
   "id": "39f7fa20",
   "metadata": {},
   "outputs": [
    {
     "name": "stdout",
     "output_type": "stream",
     "text": [
      "3 little pigs come out or I'll huff and puff and blow down\n"
     ]
    }
   ],
   "source": [
    "text = (\"%d little pigs come out or I'll %s and %s and %s\" %(3, 'huff', 'puff', 'blow down')) \n",
    "print(text)"
   ]
  },
  {
   "cell_type": "code",
   "execution_count": 11,
   "id": "4f220567",
   "metadata": {},
   "outputs": [
    {
     "name": "stdout",
     "output_type": "stream",
     "text": [
      "list is: [2, 4, 7, 9]\n",
      "element number 2 is: 4\n"
     ]
    }
   ],
   "source": [
    "list = [2, 4, 7, 9]\n",
    "print (\"list is:\",list)\n",
    "print('element number 2 is:',list[1])"
   ]
  },
  {
   "cell_type": "code",
   "execution_count": 12,
   "id": "a593aca1",
   "metadata": {},
   "outputs": [
    {
     "name": "stdout",
     "output_type": "stream",
     "text": [
      "list2 is: [3, 'test', True, 7.4]\n",
      "element 1 is 3 which is an integer\n",
      "element 2 is test which is a string\n",
      "element 3 is True which is a Boolean\n",
      "element 4 is 7.4 which is a float\n"
     ]
    }
   ],
   "source": [
    "array2 = [3, \"test\", True, 7.4]\n",
    "print (\"list2 is:\",array2)\n",
    "print('element 1 is',array2[0], 'which is an integer')\n",
    "print('element 2 is',array2[1], 'which is a string')\n",
    "print('element 3 is',array2[2], 'which is a Boolean')\n",
    "print('element 4 is',array2[3], 'which is a float')"
   ]
  },
  {
   "cell_type": "code",
   "execution_count": 13,
   "id": "a8db17f2",
   "metadata": {},
   "outputs": [
    {
     "name": "stdout",
     "output_type": "stream",
     "text": [
      "{'Arg': 'R', 'Ala': 'A', 'Lys': 'L', 'His': 'H'}\n"
     ]
    }
   ],
   "source": [
    "dictionary = {\n",
    "    'Arg': 'R', # a key-value pair\n",
    "    'Ala': 'A',\n",
    "    'Lys': 'L',\n",
    "    'His': 'H',\n",
    "}\n",
    "print(dictionary)"
   ]
  },
  {
   "cell_type": "code",
   "execution_count": 14,
   "id": "3e28a9bb",
   "metadata": {},
   "outputs": [
    {
     "name": "stdout",
     "output_type": "stream",
     "text": [
      "1\n",
      "3\n",
      "5\n"
     ]
    }
   ],
   "source": [
    "for var in range(1,6,2):\n",
    "    print(var)"
   ]
  },
  {
   "cell_type": "code",
   "execution_count": 15,
   "id": "bdfc7af5",
   "metadata": {},
   "outputs": [
    {
     "name": "stdout",
     "output_type": "stream",
     "text": [
      "Writing lookup.csv\n"
     ]
    }
   ],
   "source": [
    "%%file lookup.csv\n",
    "Date,Time\n",
    "May,4.15\n",
    "April,16.00"
   ]
  },
  {
   "cell_type": "code",
   "execution_count": null,
   "id": "2d5d6357",
   "metadata": {},
   "outputs": [],
   "source": []
  },
  {
   "cell_type": "code",
   "execution_count": null,
   "id": "6642ddf7",
   "metadata": {},
   "outputs": [],
   "source": []
  },
  {
   "cell_type": "code",
   "execution_count": null,
   "id": "3a56fc4c",
   "metadata": {},
   "outputs": [],
   "source": []
  }
 ],
 "metadata": {
  "kernelspec": {
   "display_name": "Python 3 (ipykernel)",
   "language": "python",
   "name": "python3"
  },
  "language_info": {
   "codemirror_mode": {
    "name": "ipython",
    "version": 3
   },
   "file_extension": ".py",
   "mimetype": "text/x-python",
   "name": "python",
   "nbconvert_exporter": "python",
   "pygments_lexer": "ipython3",
   "version": "3.7.11"
  }
 },
 "nbformat": 4,
 "nbformat_minor": 5
}
